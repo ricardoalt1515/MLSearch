{
 "cells": [
  {
   "cell_type": "code",
   "execution_count": 4,
   "metadata": {},
   "outputs": [
    {
     "name": "stdout",
     "output_type": "stream",
     "text": [
      "x:\n",
      " [0.56237851 0.47500025 0.42595754 0.61621025]\n",
      "mean: 0.52, std: 0.07\n",
      "x_standarized:\n",
      " [ 0.57398837 -0.60633401 -1.26881226  1.3011579 ]\n",
      "mean: 0.00, std 1.00\n"
     ]
    }
   ],
   "source": [
    "# standarization\n",
    "import numpy as np\n",
    "x = np.random.random(4)     # values between 0 and 1\n",
    "print(\"x:\\n\", x)\n",
    "print (f\"mean: {np.mean(x):.2f}, std: {np.std(x):.2f}\")\n",
    "x_standarized = (x - np.mean(x)) / np.std(x)\n",
    "print(\"x_standarized:\\n\", x_standarized)\n",
    "print (f\"mean: {np.mean(x_standarized):.2f}, std {np.std(x_standarized):.2f}\")"
   ]
  },
  {
   "cell_type": "code",
   "execution_count": 8,
   "metadata": {},
   "outputs": [
    {
     "name": "stdout",
     "output_type": "stream",
     "text": [
      "x: [0.89055788 0.4196543  0.2386616  0.88923433]\n",
      "min: 0.24, max: 0.89\n",
      "x_scaled: [1.         0.27764034 0.         0.99796971]\n",
      "min: 0.00, max: 1.00\n"
     ]
    }
   ],
   "source": [
    "# Min-max\n",
    "x = np.random.random(4)\n",
    "print (\"x:\", x)\n",
    "print (f\"min: {x.min():.2f}, max: {x.max():.2f}\")\n",
    "x_scaled = (x - x.min()) / (x.max() - x.min())\n",
    "print (\"x_scaled:\", x_scaled)\n",
    "print (f\"min: {x_scaled.min():.2f}, max: {x_scaled.max():.2f}\")"
   ]
  },
  {
   "cell_type": "code",
   "execution_count": 10,
   "metadata": {},
   "outputs": [
    {
     "name": "stdout",
     "output_type": "stream",
     "text": [
      "x: [0.74383528 0.77617452 0.18129342 0.31054698]\n",
      "bins: [0.   0.25 0.5  0.75 1.  ]\n",
      "binned: [3 4 1 2]\n"
     ]
    }
   ],
   "source": [
    "# Binning\n",
    "x = np.random.random(4) # values between 0 and 1\n",
    "print (\"x:\", x)\n",
    "bins = np.linspace(0, 1, 5) # bins between 0 and 1\n",
    "print (\"bins:\", bins)\n",
    "binned = np.digitize(x, bins)\n",
    "print (\"binned:\", binned)"
   ]
  },
  {
   "cell_type": "markdown",
   "metadata": {},
   "source": [
    "### Codificacion"
   ]
  },
  {
   "cell_type": "code",
   "execution_count": null,
   "metadata": {},
   "outputs": [
    {
     "name": "stdout",
     "output_type": "stream",
     "text": [
      "[[ 1.44245791 -0.1744313 ]\n",
      " [ 0.1148688   0.31291575]\n",
      " [-1.55732672 -0.13848446]]\n",
      "[0.96838847 0.03161153]\n",
      "[2.12582835 0.38408396]\n"
     ]
    }
   ],
   "source": [
    "# PCA\n",
    "from sklearn.decomposition import PCA\n",
    "X = np.array([[-1, -1, 3], [-2, -1, 2], [-3, -2, 1]])\n",
    "pca = PCA(n_components=2)\n",
    "pca.fit(X)\n",
    "print (pca.transform(X))\n",
    "print (pca.explained_variance_ratio_)\n",
    "print (pca.singular_values_)"
   ]
  },
  {
   "cell_type": "code",
   "execution_count": 18,
   "metadata": {},
   "outputs": [
    {
     "name": "stdout",
     "output_type": "stream",
     "text": [
      "['acetone' 'acetyl' 'chloride' 'hydroxide']\n",
      "[[1 1 0 0]\n",
      " [0 1 1 0]\n",
      " [0 0 1 1]]\n"
     ]
    }
   ],
   "source": [
    "# Counts (ngram)\n",
    "from sklearn.feature_extraction.text import CountVectorizer\n",
    "y = [\n",
    "    \"acetyl acetone\",\n",
    "    \"acetyl chloride\",\n",
    "    \"chloride hydroxide\",\n",
    "]\n",
    "vectorizer = CountVectorizer()\n",
    "y = vectorizer.fit_transform(y)\n",
    "print (vectorizer.get_feature_names_out())\n",
    "print (y.toarray())\n",
    "# 💡 Repeat above with char-level ngram vectorizer\n",
    "# vectorizer = CountVectorizer(analyzer='char', ngram_range=(1, 3)) # uni, bi and trigrams\n"
   ]
  },
  {
   "cell_type": "code",
   "execution_count": null,
   "metadata": {},
   "outputs": [],
   "source": []
  }
 ],
 "metadata": {
  "kernelspec": {
   "display_name": ".venv",
   "language": "python",
   "name": "python3"
  },
  "language_info": {
   "codemirror_mode": {
    "name": "ipython",
    "version": 3
   },
   "file_extension": ".py",
   "mimetype": "text/x-python",
   "name": "python",
   "nbconvert_exporter": "python",
   "pygments_lexer": "ipython3",
   "version": "3.11.10"
  }
 },
 "nbformat": 4,
 "nbformat_minor": 2
}
